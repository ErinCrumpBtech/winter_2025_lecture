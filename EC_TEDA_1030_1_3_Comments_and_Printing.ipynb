{
  "nbformat": 4,
  "nbformat_minor": 0,
  "metadata": {
    "colab": {
      "provenance": [],
      "include_colab_link": true
    },
    "kernelspec": {
      "name": "python3",
      "display_name": "Python 3"
    },
    "language_info": {
      "name": "python"
    },
    "gpuClass": "standard"
  },
  "cells": [
    {
      "cell_type": "markdown",
      "metadata": {
        "id": "view-in-github",
        "colab_type": "text"
      },
      "source": [
        "<a href=\"https://colab.research.google.com/github/ErinCrumpBtech/winter_2025_lecture/blob/main/EC_TEDA_1030_1_3_Comments_and_Printing.ipynb\" target=\"_parent\"><img src=\"https://colab.research.google.com/assets/colab-badge.svg\" alt=\"Open In Colab\"/></a>"
      ]
    },
    {
      "cell_type": "markdown",
      "source": [
        "# 1.3 Comments and Printing\n",
        "\n",
        "Welcome to Google Colab and Python! In this reading, you will learn about the most basic programming principle of all -- comments. Later, you will also read about *printing* in Python."
      ],
      "metadata": {
        "id": "WnYsEf6BdPEL"
      }
    },
    {
      "cell_type": "markdown",
      "source": [
        "## Comments\n",
        "\n",
        "Comments are text written in the code but which are not executed when the code is run. They are used to insert information about the program into the code without affecting how the program runs.\n",
        "\n",
        "When writing code, you'll want to leave notes about what your code does for future users and even yourself.\n",
        "\n",
        "In Python, comments are indicated with the `#` character."
      ],
      "metadata": {
        "id": "UYIvWcVGgCiy"
      }
    },
    {
      "cell_type": "code",
      "source": [
        "# This is a comment -- run this cell by clicking the play button to the left!"
      ],
      "metadata": {
        "id": "HvZkF94HeEFY"
      },
      "execution_count": null,
      "outputs": []
    },
    {
      "cell_type": "markdown",
      "source": [
        "The `#` character turns all of the text to the right of it into a comment, even if it is valid code. Text to the left side, however, does not become a comment.\n",
        "\n",
        "Notice this in the code below. The text \"This is not a comment\" is not valid code, but everything to the right side of `#` is a comment. This cell will throw an error when run."
      ],
      "metadata": {
        "id": "ijt3jcjN9U9M"
      }
    },
    {
      "cell_type": "code",
      "source": [
        "This is not a comment # but this is a comment"
      ],
      "metadata": {
        "id": "T0Nz7bZu9nP0",
        "colab": {
          "base_uri": "https://localhost:8080/",
          "height": 144
        },
        "outputId": "09697e98-fbf9-40bc-ab6c-31087cd63d43"
      },
      "execution_count": null,
      "outputs": [
        {
          "output_type": "error",
          "ename": "SyntaxError",
          "evalue": "ignored",
          "traceback": [
            "\u001b[0;36m  File \u001b[0;32m\"<ipython-input-2-2dc2f110290b>\"\u001b[0;36m, line \u001b[0;32m1\u001b[0m\n\u001b[0;31m    This is not a comment # but this is a comment\u001b[0m\n\u001b[0m                  ^\u001b[0m\n\u001b[0;31mSyntaxError\u001b[0m\u001b[0;31m:\u001b[0m invalid syntax\n"
          ]
        }
      ]
    },
    {
      "cell_type": "markdown",
      "source": [
        "You should use comments frequently throughout your code to help others understand and help yourself remember what the code is supposed to do."
      ],
      "metadata": {
        "id": "eoETpKEs90VR"
      }
    },
    {
      "cell_type": "code",
      "source": [
        "# This code adds two numbers together\n",
        "2 + 84"
      ],
      "metadata": {
        "id": "_78iv8Dn-Jug",
        "colab": {
          "base_uri": "https://localhost:8080/"
        },
        "outputId": "db988944-cb96-4181-b27c-22dd857f2893"
      },
      "execution_count": null,
      "outputs": [
        {
          "output_type": "execute_result",
          "data": {
            "text/plain": [
              "86"
            ]
          },
          "metadata": {},
          "execution_count": 3
        }
      ]
    },
    {
      "cell_type": "code",
      "source": [
        "2 - 1"
      ],
      "metadata": {
        "colab": {
          "base_uri": "https://localhost:8080/"
        },
        "id": "KtLHhZCgM4i4",
        "outputId": "44a4ec71-28d9-470e-cbbf-53c18da182f1"
      },
      "execution_count": null,
      "outputs": [
        {
          "output_type": "execute_result",
          "data": {
            "text/plain": [
              "1"
            ]
          },
          "metadata": {},
          "execution_count": 2
        }
      ]
    },
    {
      "cell_type": "code",
      "source": [
        "2.0 * 2.0"
      ],
      "metadata": {
        "colab": {
          "base_uri": "https://localhost:8080/"
        },
        "id": "Ld9YQxj-M7ha",
        "outputId": "cf66e0a2-44f3-4972-b8e8-aafdce60fd49"
      },
      "execution_count": null,
      "outputs": [
        {
          "output_type": "execute_result",
          "data": {
            "text/plain": [
              "4.0"
            ]
          },
          "metadata": {},
          "execution_count": 6
        }
      ]
    },
    {
      "cell_type": "code",
      "source": [
        "4 / 2"
      ],
      "metadata": {
        "colab": {
          "base_uri": "https://localhost:8080/"
        },
        "id": "8DNev-CSM_Rj",
        "outputId": "95329c0b-c69a-4b6c-c625-9af88a1fe439"
      },
      "execution_count": null,
      "outputs": [
        {
          "output_type": "execute_result",
          "data": {
            "text/plain": [
              "2.0"
            ]
          },
          "metadata": {},
          "execution_count": 4
        }
      ]
    },
    {
      "cell_type": "code",
      "source": [
        "int(4.9)"
      ],
      "metadata": {
        "colab": {
          "base_uri": "https://localhost:8080/"
        },
        "id": "NyJ2Gx13NYdH",
        "outputId": "e27651f4-3d30-4505-cb5d-c2fcf75589bd"
      },
      "execution_count": null,
      "outputs": [
        {
          "output_type": "execute_result",
          "data": {
            "text/plain": [
              "4"
            ]
          },
          "metadata": {},
          "execution_count": 8
        }
      ]
    },
    {
      "cell_type": "code",
      "source": [
        "9 % 2"
      ],
      "metadata": {
        "colab": {
          "base_uri": "https://localhost:8080/"
        },
        "id": "ZLsc3YD6PWcV",
        "outputId": "ea03a24b-3ac9-49f1-e044-18176517dc21"
      },
      "execution_count": null,
      "outputs": [
        {
          "output_type": "execute_result",
          "data": {
            "text/plain": [
              "1"
            ]
          },
          "metadata": {},
          "execution_count": 22
        }
      ]
    },
    {
      "cell_type": "code",
      "source": [
        "9 // 2"
      ],
      "metadata": {
        "colab": {
          "base_uri": "https://localhost:8080/"
        },
        "id": "H4hB1-H7PkpK",
        "outputId": "21ff3553-9a77-4405-8396-34a610c2c6f0"
      },
      "execution_count": null,
      "outputs": [
        {
          "output_type": "execute_result",
          "data": {
            "text/plain": [
              "4"
            ]
          },
          "metadata": {},
          "execution_count": 23
        }
      ]
    },
    {
      "cell_type": "code",
      "source": [],
      "metadata": {
        "colab": {
          "base_uri": "https://localhost:8080/"
        },
        "id": "Rx7zKTfPPtwi",
        "outputId": "4e10c409-8ae2-4233-d97d-db408f724801"
      },
      "execution_count": null,
      "outputs": [
        {
          "output_type": "execute_result",
          "data": {
            "text/plain": [
              "5.0"
            ]
          },
          "metadata": {},
          "execution_count": 26
        }
      ]
    },
    {
      "cell_type": "code",
      "source": [
        "import numpy as np\n",
        "\n",
        "np.sqrt(9)"
      ],
      "metadata": {
        "colab": {
          "base_uri": "https://localhost:8080/"
        },
        "id": "WZKpLztZNk4A",
        "outputId": "30595f06-9d10-47e7-f526-d23bd28d4354"
      },
      "execution_count": null,
      "outputs": [
        {
          "output_type": "execute_result",
          "data": {
            "text/plain": [
              "3.0"
            ]
          },
          "metadata": {},
          "execution_count": 13
        }
      ]
    },
    {
      "cell_type": "markdown",
      "source": [
        "-\n",
        "\n",
        "✅ **Try it out:** Write a comment in the space below using the `#` character. Then, run the cell to make sure that it works."
      ],
      "metadata": {
        "id": "LC_suQTKRjGr"
      }
    },
    {
      "cell_type": "code",
      "source": [],
      "metadata": {
        "id": "axakqKGQ-OcP"
      },
      "execution_count": null,
      "outputs": []
    },
    {
      "cell_type": "markdown",
      "source": [
        "To write a comment that spans multiple lines, you would have to use many `#` characters (one for each line)."
      ],
      "metadata": {
        "id": "v89ArhM2RvEh"
      }
    },
    {
      "cell_type": "code",
      "source": [
        "# This is a comment\n",
        "# that is written on\n",
        "# many lines"
      ],
      "metadata": {
        "id": "sRpmKZ7dR8Pl"
      },
      "execution_count": null,
      "outputs": []
    },
    {
      "cell_type": "markdown",
      "source": [
        "You can also write a multiline comment by surrouding the text with either triple single quotes `'''` or triple double quotes `\"\"\"`. This is the key located to the left of the `Enter` key."
      ],
      "metadata": {
        "id": "Jqmmsyh9SAZD"
      }
    },
    {
      "cell_type": "code",
      "source": [
        "'''\n",
        "    This is a comment\n",
        "    that spans\n",
        "    many lines\n",
        "    and uses\n",
        "    triple\n",
        "    quotes\n",
        "    .\n",
        "'''"
      ],
      "metadata": {
        "id": "cP-hngVOR_x3"
      },
      "execution_count": null,
      "outputs": []
    },
    {
      "cell_type": "code",
      "source": [
        "\"Hello 24, True\"\n",
        "'Hello 24, True'\n",
        "\n",
        "print(\"Terry's Treats\")"
      ],
      "metadata": {
        "colab": {
          "base_uri": "https://localhost:8080/"
        },
        "id": "_7uk5km2P7eT",
        "outputId": "ef62c6cf-5bcc-4d53-d477-6cc5eef2e19f"
      },
      "execution_count": null,
      "outputs": [
        {
          "output_type": "stream",
          "name": "stdout",
          "text": [
            "Terry's Treats\n"
          ]
        }
      ]
    },
    {
      "cell_type": "code",
      "source": [
        "True\n",
        "False"
      ],
      "metadata": {
        "id": "aDJyCEm5QfcY"
      },
      "execution_count": null,
      "outputs": []
    },
    {
      "cell_type": "markdown",
      "source": [
        "✅ **Try it out:** Write a multi-line comment in the cell below using triple quotes. Then, run the cell to make sure that it works."
      ],
      "metadata": {
        "id": "Fc5jqelETAZX"
      }
    },
    {
      "cell_type": "code",
      "source": [],
      "metadata": {
        "id": "5uvvon5dSYsr"
      },
      "execution_count": null,
      "outputs": []
    },
    {
      "cell_type": "markdown",
      "source": [
        "One of the most common uses of comments is for *debugging*, or fixing errors in the code. When you have a piece of code that isn't working the way it should, you can use a comment to prevent a line from being run."
      ],
      "metadata": {
        "id": "2YLeB-hvTttR"
      }
    },
    {
      "cell_type": "code",
      "source": [
        "# The code below throws an error when the # is removed because diving by 0 is impossible.\n",
        "# 4 / 0"
      ],
      "metadata": {
        "id": "9Opak347UKsd"
      },
      "execution_count": null,
      "outputs": []
    },
    {
      "cell_type": "markdown",
      "source": [
        "✅ **Try it out:** Insert comments in the cell below so that the code prints out the results of 3 * 4 and nothing else. You should see `12` outputted below the cell after it is run.\n",
        "\n",
        "\n",
        "Hint: You can use the keyboard shortcut `Ctrl + /` to instantly comment out a line of code."
      ],
      "metadata": {
        "id": "GQjCfV_HUfft"
      }
    },
    {
      "cell_type": "code",
      "source": [
        "# This code prints out (displays) the results of 3 * 4\n",
        "print(5 * 2)\n",
        "print(3 * 4)\n",
        "print(1 + 6)"
      ],
      "metadata": {
        "id": "hYkuW_N3UsCL"
      },
      "execution_count": null,
      "outputs": []
    },
    {
      "cell_type": "markdown",
      "source": [
        "### Workplace Application\n",
        "When you are presenting your findings after analyzing a bunch of data, you will often have to defend your results. Imagine, for example, you have found data that indicates a certain accepted practice is not working, or that some level of discrimination is taking place. You will need to pull up all of your code and explain the steps that got you from your raw data to your conclusions. Comments are great for quickly remembering that information.\n"
      ],
      "metadata": {
        "id": "1WbA14PzWpPF"
      }
    },
    {
      "cell_type": "markdown",
      "source": [
        "\n",
        "## Printing\n",
        "Printing in Python has nothing to do with paper, ink, or clunky machines. In Python, the word `print` is actually an important function that displays things on the screen. This allows us humans to see what Python is doing in the background.\n",
        "\n",
        "Programmers often include print statements throughout their code to check progress and report errors that might occur. They are also used to present output to the user in an easy-to-read way. The `print()` function accepts any data type and outputs it to the screen.\n",
        "\n",
        "The `print` function, like all other functions, is always used with parentheses `()` attached to its right side. Inside of these parentheses is where we place the thing that we want to see displayed.\n",
        "\n",
        "For example, to see the result of `4 * 142`, I can insert this equation into the parentheses of the `print()` function."
      ],
      "metadata": {
        "id": "03988Z91f-AC"
      }
    },
    {
      "cell_type": "code",
      "source": [
        "print(4 * 142)"
      ],
      "metadata": {
        "id": "L3GlP0M0Y6Nk"
      },
      "execution_count": null,
      "outputs": []
    },
    {
      "cell_type": "markdown",
      "source": [
        "Upon executing the cell, the result is computed `4 * 142` and then output to the screen with the `print()` function.\n",
        "\n",
        "You can also use multiple print statements in a single cell..."
      ],
      "metadata": {
        "id": "Yr36q3-6Y9jv"
      }
    },
    {
      "cell_type": "code",
      "source": [
        "print(\"I love Python!\")\n",
        "print(False)\n",
        "print(3.141592 * 4)"
      ],
      "metadata": {
        "id": "vLeVYLFVY86o"
      },
      "execution_count": null,
      "outputs": []
    },
    {
      "cell_type": "markdown",
      "source": [
        "...or separate each thing to be printed with a comma `,` inside of the parentheses on a single line."
      ],
      "metadata": {
        "id": "b_gtD-x0aRYi"
      }
    },
    {
      "cell_type": "code",
      "source": [
        "print('hello', 42, True)"
      ],
      "metadata": {
        "id": "xP69CS50Y74a"
      },
      "execution_count": null,
      "outputs": []
    },
    {
      "cell_type": "markdown",
      "source": [
        "✅ **Try it out:** Print out the phrase `\"Hello world!\"` using the print function in the cell below. Make sure to use quotation marks on each side of the text (we'll learn more about that in the next reading)."
      ],
      "metadata": {
        "id": "KIcZqUp1aoae"
      }
    },
    {
      "cell_type": "code",
      "source": [],
      "metadata": {
        "id": "Tht9toZNadS5"
      },
      "execution_count": null,
      "outputs": []
    },
    {
      "cell_type": "markdown",
      "source": [
        "In Google Colab, the last line of code in each cell will always be printed out automatically, even without using the `print()` statement. That means that the following code will only show `14`, even though all of the calculations were processed."
      ],
      "metadata": {
        "id": "Whs6AqlubDaV"
      }
    },
    {
      "cell_type": "code",
      "source": [
        "# All of the mathematical operations are processed, but only the last one is output to the screen.\n",
        "33 + 10\n",
        "84 *3\n",
        "24 - 10"
      ],
      "metadata": {
        "id": "fTCm7WpNb3R1"
      },
      "execution_count": null,
      "outputs": []
    },
    {
      "cell_type": "markdown",
      "source": [
        " You should generally try to avoid relying on this \"automatic printing\" and explicitly use the `print()` function instead."
      ],
      "metadata": {
        "id": "4-ezf82QcCAy"
      }
    },
    {
      "cell_type": "markdown",
      "source": [
        "✅ **Try it out:** Fix the code below so that all of the calculations are outputted to the screen with the `print()` funciton."
      ],
      "metadata": {
        "id": "JSBKaCC0cW7W"
      }
    },
    {
      "cell_type": "code",
      "source": [
        "33 + 10\n",
        "84 * 3\n",
        "24 - 10"
      ],
      "metadata": {
        "id": "PYgEH8Qlb6qe"
      },
      "execution_count": null,
      "outputs": []
    },
    {
      "cell_type": "markdown",
      "source": [
        "### Workplace Application\n",
        "The `print()` function is one of the most commonly used commands in Python and is used in all industries. You will likely find yourself using it frequently to learn about how your data changes as it is processed.\n",
        "\n",
        "Next, we will learn about creating variables and the different data types that exist in Python."
      ],
      "metadata": {
        "id": "Uo7EAVsZeQkb"
      }
    }
  ]
}